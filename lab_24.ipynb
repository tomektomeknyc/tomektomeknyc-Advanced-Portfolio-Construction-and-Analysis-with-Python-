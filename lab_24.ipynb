{
 "cells": [
  {
   "cell_type": "markdown",
   "metadata": {},
   "source": [
    "# Risk Contributions and Risk Parity\n",
    "\n",
    "> The word 'risk' derives from the early Italian risicare, which means 'to dare'. In this sense, risk is a choice rather than a fate. The actions we dare to take, which depend on how free we are to make choices, are what the story of risk is all about.\n",
    "\n",
    "_Peter L. Bernstein, Against the Gods: The Remarkable Story of Risk_"
   ]
  },
  {
   "cell_type": "code",
   "execution_count": 1,
   "metadata": {},
   "outputs": [],
   "source": [
    "import numpy as np\n",
    "import pandas as pd\n",
    "\n",
    "import edhec_risk_kit_206 as erk\n",
    "\n",
    "%load_ext autoreload\n",
    "%autoreload 2\n",
    "inds = ['Food', 'Beer', 'Smoke', 'Games', 'Books', 'Hshld', 'Clths', 'Hlth',\n",
    "       'Chems', 'Txtls', 'Cnstr', 'Steel', 'FabPr', 'ElcEq', 'Autos', 'Carry',\n",
    "       'Mines', 'Coal', 'Oil', 'Util', 'Telcm', 'Servs', 'BusEq', 'Paper',\n",
    "       'Trans', 'Whlsl', 'Rtail', 'Meals', 'Fin', 'Other']\n",
    "inds=['Beer', 'Hlth', 'Fin','Rtail','Whlsl']\n",
    "ind_rets = erk.get_ind_returns(weighting=\"vw\", n_inds=49)[\"1974\":]\n",
    "ind_mcap = erk.get_ind_market_caps(49, weights=True)[\"1974\":]\n",
    "\n",
    "rets = ind_rets[\"2013\":][inds]\n",
    "cov = rets.cov()"
   ]
  },
  {
   "cell_type": "code",
   "execution_count": 2,
   "metadata": {},
   "outputs": [],
   "source": [
    "def risk_contribution(w,cov):\n",
    "    \"\"\"\n",
    "    Compute the contributions to risk of the constituents of a portfolio, given a set of portfolio weights and a covariance matrix\n",
    "    \"\"\"\n",
    "    total_portfolio_var = erk.portfolio_vol(w,cov)**2\n",
    "    # Marginal contribution of each constituent\n",
    "    marginal_contrib = cov@w\n",
    "    risk_contrib = np.multiply(marginal_contrib,w.T)/total_portfolio_var\n",
    "    return risk_contrib"
   ]
  },
  {
   "cell_type": "code",
   "execution_count": 3,
   "metadata": {},
   "outputs": [
    {
     "data": {
      "image/png": "[encoded data removed]",
      "text/plain": [
       "<Figure size 432x288 with 1 Axes>"
      ]
     },
     "metadata": {
      "needs_background": "light"
     },
     "output_type": "display_data"
    }
   ],
   "source": [
    "risk_contribution(erk.weight_ew(rets), cov).plot.bar(title=\"Risk Contributions of an EW portfolio\");"
   ]
  },
  {
   "cell_type": "code",
   "execution_count": 4,
   "metadata": {},
   "outputs": [],
   "source": [
    "from scipy.optimize import minimize\n",
    "\n",
    "def target_risk_contributions(target_risk, cov):\n",
    "    \"\"\"\n",
    "    Returns the weights of the portfolio that gives you the weights such\n",
    "    that the contributions to portfolio risk are as close as possible to\n",
    "    the target_risk, given the covariance matrix\n",
    "    \"\"\"\n",
    "    n = cov.shape[0]\n",
    "    init_guess = np.repeat(1/n, n)\n",
    "    bounds = ((0.0, 1.0),) * n # an N-tuple of 2-tuples!\n",
    "    # construct the constraints\n",
    "    weights_sum_to_1 = {'type': 'eq',\n",
    "                        'fun': lambda weights: np.sum(weights) - 1\n",
    "    }\n",
    "    def msd_risk(weights, target_risk, cov):\n",
    "        \"\"\"\n",
    "        Returns the Mean Squared Difference in risk contributions\n",
    "        between weights and target_risk\n",
    "        \"\"\"\n",
    "        w_contribs = risk_contribution(weights, cov)\n",
    "        return ((w_contribs-target_risk)**2).sum()\n",
    "    \n",
    "    weights = minimize(msd_risk, init_guess,\n",
    "                       args=(target_risk, cov), method='SLSQP',\n",
    "                       options={'disp': False},\n",
    "                       constraints=(weights_sum_to_1,),\n",
    "                       bounds=bounds)\n",
    "    return weights.x\n",
    "\n",
    "def equal_risk_contributions(cov):\n",
    "    \"\"\"\n",
    "    Returns the weights of the portfolio that equalizes the contributions\n",
    "    of the constituents based on the given covariance matrix\n",
    "    \"\"\"\n",
    "    n = cov.shape[0]\n",
    "    return target_risk_contributions(target_risk=np.repeat(1/n,n), cov=cov)\n"
   ]
  },
  {
   "cell_type": "code",
   "execution_count": 5,
   "metadata": {},
   "outputs": [
    {
     "data": {
      "image/png": "[encoded data removed]",
      "text/plain": [
       "<Figure size 432x288 with 1 Axes>"
      ]
     },
     "metadata": {
      "needs_background": "light"
     },
     "output_type": "display_data"
    }
   ],
   "source": [
    "risk_contribution(equal_risk_contributions(cov), cov).plot.bar(title=\"Risk Contributions of an ERC portfolio\");"
   ]
  },
  {
   "cell_type": "code",
   "execution_count": 6,
   "metadata": {},
   "outputs": [],
   "source": [
    "def weight_erc(r, cov_estimator=erk.sample_cov, **kwargs):\n",
    "    \"\"\"\n",
    "    Produces the weights of the ERC portfolio given a covariance matrix of the returns \n",
    "    \"\"\"\n",
    "    est_cov = cov_estimator(r, **kwargs)\n",
    "    return equal_risk_contributions(est_cov)\n"
   ]
  },
  {
   "cell_type": "code",
   "execution_count": 7,
   "metadata": {},
   "outputs": [
    {
     "data": {
      "text/html": [
       "<div>\n",
       "<style scoped>\n",
       "    .dataframe tbody tr th:only-of-type {\n",
       "        vertical-align: middle;\n",
       "    }\n",
       "\n",
       "    .dataframe tbody tr th {\n",
       "        vertical-align: top;\n",
       "    }\n",
       "\n",
       "    .dataframe thead th {\n",
       "        text-align: right;\n",
       "    }\n",
       "</style>\n",
       "<table border=\"1\" class=\"dataframe\">\n",
       "  <thead>\n",
       "    <tr style=\"text-align: right;\">\n",
       "      <th></th>\n",
       "      <th>Annualized Return</th>\n",
       "      <th>Annualized Vol</th>\n",
       "      <th>Skewness</th>\n",
       "      <th>Kurtosis</th>\n",
       "      <th>Cornish-Fisher VaR (5%)</th>\n",
       "      <th>Historic CVaR (5%)</th>\n",
       "      <th>Sharpe Ratio</th>\n",
       "      <th>Max Drawdown</th>\n",
       "    </tr>\n",
       "  </thead>\n",
       "  <tbody>\n",
       "    <tr>\n",
       "      <th>EW</th>\n",
       "      <td>0.121052</td>\n",
       "      <td>0.161000</td>\n",
       "      <td>-0.769256</td>\n",
       "      <td>6.572680</td>\n",
       "      <td>0.071993</td>\n",
       "      <td>0.103950</td>\n",
       "      <td>0.550248</td>\n",
       "      <td>-0.528292</td>\n",
       "    </tr>\n",
       "    <tr>\n",
       "      <th>CW</th>\n",
       "      <td>0.117007</td>\n",
       "      <td>0.149311</td>\n",
       "      <td>-0.702445</td>\n",
       "      <td>5.458192</td>\n",
       "      <td>0.066685</td>\n",
       "      <td>0.096232</td>\n",
       "      <td>0.566996</td>\n",
       "      <td>-0.518076</td>\n",
       "    </tr>\n",
       "  </tbody>\n",
       "</table>\n",
       "</div>"
      ],
      "text/plain": [
       "    Annualized Return  Annualized Vol  Skewness  Kurtosis  \\\n",
       "EW           0.121052        0.161000 -0.769256  6.572680   \n",
       "CW           0.117007        0.149311 -0.702445  5.458192   \n",
       "\n",
       "    Cornish-Fisher VaR (5%)  Historic CVaR (5%)  Sharpe Ratio  Max Drawdown  \n",
       "EW                 0.071993            0.103950      0.550248     -0.528292  \n",
       "CW                 0.066685            0.096232      0.566996     -0.518076  "
      ]
     },
     "execution_count": 7,
     "metadata": {},
     "output_type": "execute_result"
    },
    {
     "data": {
      "image/png": "[encoded data removed]",
      "text/plain": [
       "<Figure size 864x432 with 1 Axes>"
      ]
     },
     "metadata": {
      "needs_background": "light"
     },
     "output_type": "display_data"
    }
   ],
   "source": [
    "ewr = erk.backtest_ws(ind_rets, estimation_window=36, weighting=erk.weight_ew)\n",
    "cwr = erk.backtest_ws(ind_rets, estimation_window=36, weighting=erk.weight_cw, cap_weights=ind_mcap)\n",
    "btr = pd.DataFrame({\"EW\": ewr, \"CW\": cwr})\n",
    "(1+btr).cumprod().plot(figsize=(12,6), title=\"Industry Portfolios\")\n",
    "erk.summary_stats(btr.dropna())"
   ]
  },
  {
   "cell_type": "markdown",
   "metadata": {},
   "source": [
    "Now, let's run a backtest of this new weighting scheme we've just developed. Be warned that this will likely take quite some time to run - depending on your computer's CPU horsepower, but on my laptop it took several minutes."
   ]
  },
  {
   "cell_type": "code",
   "execution_count": 8,
   "metadata": {},
   "outputs": [
    {
     "data": {
      "text/html": [
       "<div>\n",
       "<style scoped>\n",
       "    .dataframe tbody tr th:only-of-type {\n",
       "        vertical-align: middle;\n",
       "    }\n",
       "\n",
       "    .dataframe tbody tr th {\n",
       "        vertical-align: top;\n",
       "    }\n",
       "\n",
       "    .dataframe thead th {\n",
       "        text-align: right;\n",
       "    }\n",
       "</style>\n",
       "<table border=\"1\" class=\"dataframe\">\n",
       "  <thead>\n",
       "    <tr style=\"text-align: right;\">\n",
       "      <th></th>\n",
       "      <th>Annualized Return</th>\n",
       "      <th>Annualized Vol</th>\n",
       "      <th>Skewness</th>\n",
       "      <th>Kurtosis</th>\n",
       "      <th>Cornish-Fisher VaR (5%)</th>\n",
       "      <th>Historic CVaR (5%)</th>\n",
       "      <th>Sharpe Ratio</th>\n",
       "      <th>Max Drawdown</th>\n",
       "    </tr>\n",
       "  </thead>\n",
       "  <tbody>\n",
       "    <tr>\n",
       "      <th>EW</th>\n",
       "      <td>0.121052</td>\n",
       "      <td>0.161000</td>\n",
       "      <td>-0.769256</td>\n",
       "      <td>6.572680</td>\n",
       "      <td>0.071993</td>\n",
       "      <td>0.103950</td>\n",
       "      <td>0.550248</td>\n",
       "      <td>-0.528292</td>\n",
       "    </tr>\n",
       "    <tr>\n",
       "      <th>CW</th>\n",
       "      <td>0.117007</td>\n",
       "      <td>0.149311</td>\n",
       "      <td>-0.702445</td>\n",
       "      <td>5.458192</td>\n",
       "      <td>0.066685</td>\n",
       "      <td>0.096232</td>\n",
       "      <td>0.566996</td>\n",
       "      <td>-0.518076</td>\n",
       "    </tr>\n",
       "    <tr>\n",
       "      <th>ERC-Sample</th>\n",
       "      <td>0.120185</td>\n",
       "      <td>0.149185</td>\n",
       "      <td>-0.872577</td>\n",
       "      <td>7.019237</td>\n",
       "      <td>0.066886</td>\n",
       "      <td>0.096357</td>\n",
       "      <td>0.588203</td>\n",
       "      <td>-0.502950</td>\n",
       "    </tr>\n",
       "  </tbody>\n",
       "</table>\n",
       "</div>"
      ],
      "text/plain": [
       "            Annualized Return  Annualized Vol  Skewness  Kurtosis  \\\n",
       "EW                   0.121052        0.161000 -0.769256  6.572680   \n",
       "CW                   0.117007        0.149311 -0.702445  5.458192   \n",
       "ERC-Sample           0.120185        0.149185 -0.872577  7.019237   \n",
       "\n",
       "            Cornish-Fisher VaR (5%)  Historic CVaR (5%)  Sharpe Ratio  \\\n",
       "EW                         0.071993            0.103950      0.550248   \n",
       "CW                         0.066685            0.096232      0.566996   \n",
       "ERC-Sample                 0.066886            0.096357      0.588203   \n",
       "\n",
       "            Max Drawdown  \n",
       "EW             -0.528292  \n",
       "CW             -0.518076  \n",
       "ERC-Sample     -0.502950  "
      ]
     },
     "execution_count": 8,
     "metadata": {},
     "output_type": "execute_result"
    },
    {
     "data": {
      "image/png": "[encoded data removed]",
      "text/plain": [
       "<Figure size 864x432 with 1 Axes>"
      ]
     },
     "metadata": {
      "needs_background": "light"
     },
     "output_type": "display_data"
    }
   ],
   "source": [
    "mv_erc_r = erk.backtest_ws(ind_rets, estimation_window=36, weighting=weight_erc, cov_estimator=erk.sample_cov)\n",
    "btr = pd.DataFrame({\"EW\": ewr, \"CW\": cwr, \"ERC-Sample\": mv_erc_r})\n",
    "(1+btr).cumprod().plot(figsize=(12,6), title=\"Industry Portfolios\")\n",
    "erk.summary_stats(btr.dropna())"
   ]
  },
  {
   "cell_type": "code",
   "execution_count": 43,
   "metadata": {},
   "outputs": [
    {
     "name": "stdout",
     "output_type": "stream",
     "text": [
      "The autoreload extension is already loaded. To reload it, use:\n",
      "  %reload_ext autoreload\n"
     ]
    },
    {
     "data": {
      "text/plain": [
       "Banks    0.104060\n",
       "Softw    0.093745\n",
       "Oil      0.088914\n",
       "Drugs    0.084653\n",
       "Rtail    0.070120\n",
       "Chips    0.063869\n",
       "Telcm    0.046113\n",
       "Other    0.042484\n",
       "Insur    0.039418\n",
       "Mach     0.030455\n",
       "Fin      0.028291\n",
       "Trans    0.026039\n",
       "Chems    0.025071\n",
       "BusSv    0.021816\n",
       "Hardw    0.018487\n",
       "Autos    0.016170\n",
       "Aero     0.014904\n",
       "LabEq    0.014527\n",
       "Whlsl    0.013434\n",
       "MedEq    0.012792\n",
       "Hshld    0.011568\n",
       "Paper    0.011139\n",
       "Meals    0.010572\n",
       "Food     0.010084\n",
       "Util     0.009626\n",
       "Fun      0.009335\n",
       "ElcEq    0.007693\n",
       "Cnstr    0.007428\n",
       "Clths    0.006676\n",
       "Smoke    0.006470\n",
       "Soda     0.006309\n",
       "BldMt    0.006061\n",
       "Steel    0.005182\n",
       "Mines    0.004954\n",
       "Beer     0.004776\n",
       "Hlth     0.004203\n",
       "PerSv    0.003219\n",
       "Agric    0.002886\n",
       "RlEst    0.002803\n",
       "Boxes    0.002595\n",
       "Guns     0.002263\n",
       "Rubbr    0.001972\n",
       "Toys     0.001796\n",
       "Ships    0.001276\n",
       "Txtls    0.001276\n",
       "Books    0.001203\n",
       "Coal     0.000870\n",
       "FabPr    0.000309\n",
       "Gold     0.000096\n",
       "dtype: float64"
      ]
     },
     "execution_count": 43,
     "metadata": {},
     "output_type": "execute_result"
    }
   ],
   "source": [
    "import numpy as np\n",
    "import pandas as pd\n",
    "\n",
    "import edhec_risk_kit_206 as erk\n",
    "\n",
    "%load_ext autoreload\n",
    "%autoreload 2\n",
    "industries=[\"Hlth\", \"Fin\",\"Whlsl\",\"Rtail\",\"Food\"]\n",
    "ind_rets = erk.get_ind_returns(weighting=\"vw\", n_inds=49)[\"2014\":\"2018\"]\n",
    "ind_mcap = erk.get_ind_market_caps(n_inds=49, weights=False)[\"2014\":\"2018\"]\n",
    "cov=ind_rets.cov()\n",
    "cov\n",
    "rc = erk.risk_contribution(erk.weight_cw(ind_rets,ind_mcap),cov).sort_values(ascending=False)\n",
    "rc\n"
   ]
  },
  {
   "cell_type": "code",
   "execution_count": 46,
   "metadata": {},
   "outputs": [
    {
     "data": {
      "text/plain": [
       "Steel    0.030938\n",
       "Ships    0.030005\n",
       "Coal     0.029025\n",
       "Mines    0.028641\n",
       "BldMt    0.028106\n",
       "Mach     0.027558\n",
       "FabPr    0.027473\n",
       "RlEst    0.026693\n",
       "Txtls    0.026679\n",
       "ElcEq    0.026376\n",
       "Chems    0.026042\n",
       "Boxes    0.025176\n",
       "Books    0.024772\n",
       "Cnstr    0.024585\n",
       "Oil      0.023372\n",
       "Toys     0.023371\n",
       "Autos    0.023338\n",
       "Trans    0.022935\n",
       "Fin      0.022416\n",
       "Fun      0.022200\n",
       "Banks    0.021622\n",
       "Rubbr    0.021541\n",
       "LabEq    0.021497\n",
       "Aero     0.021306\n",
       "Paper    0.021104\n",
       "Whlsl    0.020881\n",
       "BusSv    0.020757\n",
       "Hardw    0.020570\n",
       "Chips    0.020140\n",
       "PerSv    0.019258\n",
       "Drugs    0.019058\n",
       "Rtail    0.019039\n",
       "Insur    0.018249\n",
       "MedEq    0.017747\n",
       "Softw    0.017357\n",
       "Hlth     0.017251\n",
       "Agric    0.016982\n",
       "Guns     0.015950\n",
       "Other    0.015948\n",
       "Telcm    0.015910\n",
       "Meals    0.013261\n",
       "Clths    0.012855\n",
       "Gold     0.012449\n",
       "Soda     0.012041\n",
       "Food     0.011227\n",
       "Beer     0.010500\n",
       "Hshld    0.010492\n",
       "Smoke    0.009393\n",
       "Util     0.005916\n",
       "dtype: float64"
      ]
     },
     "execution_count": 46,
     "metadata": {},
     "output_type": "execute_result"
    }
   ],
   "source": [
    "rc1= erk.risk_contribution(erk.weight_ew(ind_rets),cov).sort_values(ascending=False)\n",
    "rc1"
   ]
  },
  {
   "cell_type": "code",
   "execution_count": 68,
   "metadata": {
    "tags": []
   },
   "outputs": [
    {
     "name": "stdout",
     "output_type": "stream",
     "text": [
      "The autoreload extension is already loaded. To reload it, use:\n",
      "  %reload_ext autoreload\n",
      "Index(['Util'], dtype='object')\n",
      "Index(['Steel'], dtype='object')\n",
      "0.01280910506181109\n",
      "0.05215573493688137\n"
     ]
    }
   ],
   "source": [
    "import numpy as np\n",
    "import pandas as pd\n",
    "\n",
    "import edhec_risk_kit_206 as erk\n",
    "\n",
    "%load_ext autoreload\n",
    "%autoreload 2\n",
    "\n",
    "def risk_contribution(w,cov):\n",
    "    \"\"\"\n",
    "    Compute the contributions to risk of the constituents of a portfolio, given a set of portfolio weights and a covariance matrix\n",
    "    \"\"\"\n",
    "    total_portfolio_var = erk.portfolio_vol(w,cov)**2\n",
    "    # Marginal contribution of each constituent\n",
    "    marginal_contrib = cov@w\n",
    "    risk_contrib = np.multiply(marginal_contrib,w.T)/total_portfolio_var\n",
    "    return risk_contrib\n",
    "def target_risk_contributions(target_risk, cov):\n",
    "    \"\"\"\n",
    "    Returns the weights of the portfolio that gives you the weights such\n",
    "    that the contributions to portfolio risk are as close as possible to\n",
    "    the target_risk, given the covariance matrix\n",
    "    \"\"\"\n",
    "    n = cov.shape[0]\n",
    "    init_guess = np.repeat(1/n, n)\n",
    "    bounds = ((0.0, 1.0),) * n # an N-tuple of 2-tuples!\n",
    "    # construct the constraints\n",
    "    weights_sum_to_1 = {'type': 'eq',\n",
    "                        'fun': lambda weights: np.sum(weights) - 1\n",
    "    }\n",
    "    def msd_risk(weights, target_risk, cov):\n",
    "        \"\"\"\n",
    "        Returns the Mean Squared Difference in risk contributions\n",
    "        between weights and target_risk\n",
    "        \"\"\"\n",
    "        w_contribs = risk_contribution(weights, cov)\n",
    "        return ((w_contribs-target_risk)**2).sum()\n",
    "    weights = minimize(msd_risk, init_guess,\n",
    "                       args=(target_risk, cov), method='SLSQP',\n",
    "                       options={'disp': False},\n",
    "                       constraints=(weights_sum_to_1,),\n",
    "                       bounds=bounds)\n",
    "    return weights.x\n",
    "\n",
    "def equal_risk_contributions(cov):\n",
    "    \"\"\"\n",
    "    Returns the weights of the portfolio that equalizes the contributions\n",
    "    of the constituents based on the given covariance matrix\n",
    "    \"\"\"\n",
    "    n = cov.shape[0]\n",
    "    return target_risk_contributions(target_risk=np.repeat(1/n,n), cov=cov)\n",
    "  # Equally Weighted Risk  \n",
    "def weight_erc(r, cov_estimator=erk.sample_cov, **kwargs):\n",
    "    \"\"\"\n",
    "    Produces the weights of the ERC portfolio given a covariance matrix of the returns \n",
    "    \"\"\"\n",
    "    est_cov = cov_estimator(r, **kwargs)\n",
    "    return equal_risk_contributions(est_cov)\n",
    "\n",
    "ind_rets = erk.get_ind_returns(weighting=\"vw\", n_inds=49)[\"2014\":\"2018\"]\n",
    "ind_mcap = erk.get_ind_market_caps(49, weights=True)[\"2014\":\"2018\"]\n",
    "\n",
    "cov = ind_rets.cov()\n",
    "\n",
    "RR = pd.DataFrame([1/49]*49,['Agric', 'Food', 'Soda', 'Beer', 'Smoke', 'Toys', 'Fun', 'Books',\n",
    "                             'Hshld', 'Clths', 'Hlth', 'MedEq', 'Drugs', 'Chems', 'Rubbr', 'Txtls',\n",
    "       'BldMt', 'Cnstr', 'Steel', 'FabPr', 'Mach', 'ElcEq', 'Autos', 'Aero',\n",
    "       'Ships', 'Guns', 'Gold', 'Mines', 'Coal', 'Oil', 'Util', 'Telcm',\n",
    "       'PerSv', 'BusSv', 'Hardw', 'Softw', 'Chips', 'LabEq', 'Paper', 'Boxes',\n",
    "       'Trans', 'Whlsl', 'Rtail', 'Meals', 'Banks', 'Insur', 'RlEst', 'Fin',\n",
    "       'Other']).T\n",
    "\n",
    "print(RR.columns[(weight_erc(ind_rets, cov_estimator=erk.sample_cov) ==weight_erc(ind_rets, cov_estimator=erk.sample_cov).max())])#5\n",
    "\n",
    "print(RR.columns[(weight_erc(ind_rets, cov_estimator=erk.sample_cov) ==weight_erc(ind_rets, cov_estimator=erk.sample_cov).min())])#7\n",
    "\n",
    "print(weight_erc(ind_rets, cov_estimator=erk.sample_cov).min() )#8\n",
    "print(weight_erc(ind_rets, cov_estimator=erk.sample_cov).max() )#6"
   ]
  },
  {
   "cell_type": "code",
   "execution_count": 74,
   "metadata": {},
   "outputs": [
    {
     "data": {
      "text/plain": [
       "0.11221962936038864"
      ]
     },
     "execution_count": 74,
     "metadata": {},
     "output_type": "execute_result"
    }
   ],
   "source": [
    "# 9 \n",
    "risk_contribution(ind_mcap.sum(), cov).max()- risk_contribution(ind_mcap.sum(), cov).min()"
   ]
  },
  {
   "cell_type": "code",
   "execution_count": 78,
   "metadata": {},
   "outputs": [
    {
     "data": {
      "text/plain": [
       "2.502175762491148"
      ]
     },
     "execution_count": 78,
     "metadata": {},
     "output_type": "execute_result"
    }
   ],
   "source": [
    "#10\n",
    "ew_rc = erk.risk_contribution(erk.weight_ew(ind_rets),cov).sort_values(ascending=False)\n",
    "(ew_rc[1] - ew_rc[0])*100\n",
    "\n",
    "ew_rc1 = erk.risk_contribution(erk.weight_ew(ind_rets),cov).max()\n",
    "ew_rc2 = erk.risk_contribution(erk.weight_ew(ind_rets),cov).min()\n",
    "result = (ew_rc1 - ew_rc2)*100\n",
    "result"
   ]
  },
  {
   "cell_type": "code",
   "execution_count": null,
   "metadata": {},
   "outputs": [],
   "source": []
  }
 ],
 "metadata": {
  "kernelspec": {
   "display_name": "Python 3",
   "language": "python",
   "name": "python3"
  },
  "language_info": {
   "codemirror_mode": {
    "name": "ipython",
    "version": 3
   },
   "file_extension": ".py",
   "mimetype": "text/x-python",
   "name": "python",
   "nbconvert_exporter": "python",
   "pygments_lexer": "ipython3",
   "version": "3.7.10"
  }
 },
 "nbformat": 4,
 "nbformat_minor": 4
}
